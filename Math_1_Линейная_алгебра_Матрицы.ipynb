{
  "nbformat": 4,
  "nbformat_minor": 0,
  "metadata": {
    "colab": {
      "provenance": [],
      "authorship_tag": "ABX9TyOVj5l94Sy9i7Uxoit00H6f",
      "include_colab_link": true
    },
    "kernelspec": {
      "name": "python3",
      "display_name": "Python 3"
    },
    "language_info": {
      "name": "python"
    }
  },
  "cells": [
    {
      "cell_type": "markdown",
      "metadata": {
        "id": "view-in-github",
        "colab_type": "text"
      },
      "source": [
        "<a href=\"https://colab.research.google.com/github/Delena7/MDS/blob/main/Math_1_%D0%9B%D0%B8%D0%BD%D0%B5%D0%B9%D0%BD%D0%B0%D1%8F_%D0%B0%D0%BB%D0%B3%D0%B5%D0%B1%D1%80%D0%B0_%D0%9C%D0%B0%D1%82%D1%80%D0%B8%D1%86%D1%8B.ipynb\" target=\"_parent\"><img src=\"https://colab.research.google.com/assets/colab-badge.svg\" alt=\"Open In Colab\"/></a>"
      ]
    },
    {
      "cell_type": "code",
      "source": [
        "import numpy as np\n",
        "#Задание 1\n",
        "#Создайте матрицу 3 на 3, заполненную числами от 1 до 9\n",
        "A1=np.arange(1,10).reshape(3,3)\n",
        "A1\n",
        "\n",
        "A2=np.eye(3)\n",
        "A2\n",
        "\n",
        "#Прибавьте к ней матрицу с единицами на диагонале\n",
        "A3=A1+A2\n",
        "A3\n",
        "\n",
        "#Умножьте полученную матрицу на вектор (1, 2, 3)\n",
        "v=(1,2,3)\n",
        "A4=A3@v\n",
        "A4\n",
        "\n",
        "#Вычислить транспонированную матрицу от полученной в результате прибавления матрицы\n",
        "A5=np.transpose(A3)\n",
        "A5\n",
        "\n",
        "#Посчитайте обратную матрицу к полученной в результате прибавления матрице\n",
        "A6=np.linalg.inv(A3)\n",
        "A6"
      ],
      "metadata": {
        "colab": {
          "base_uri": "https://localhost:8080/"
        },
        "id": "mV6fuGd0gT6w",
        "outputId": "e281a802-91ca-4b57-9409-12c6f7018b7f"
      },
      "execution_count": 2,
      "outputs": [
        {
          "output_type": "execute_result",
          "data": {
            "text/plain": [
              "array([[-6.00000000e+00, -2.00000000e+00,  3.00000000e+00],\n",
              "       [-1.00000000e+00,  5.00000000e-01, -2.33146835e-16],\n",
              "       [ 5.00000000e+00,  1.00000000e+00, -2.00000000e+00]])"
            ]
          },
          "metadata": {},
          "execution_count": 2
        }
      ]
    },
    {
      "cell_type": "code",
      "source": [
        "#Уровень 1: Задание 2 Найдите собственные значения и собственные вектора матрицы:\n",
        "\n",
        "m = np.array([[2, 2], [1, 3]])\n",
        "np.linalg.eig(m)\n",
        "#print(m)\n",
        "\n",
        "#Задание 3 Придумайте матрицу, у которой определитель = 1, и все элементы не равны 0.\n",
        "#P.S. Матрица должна быть ненулевой и размерностью не менее 2!\n",
        "m1=np.array([[2,1],[1,1]])\n",
        "det1=np.linalg.eig(m1)\n",
        "print(m1)\n",
        "print(det1)\n",
        "det = 0\n",
        "\n",
        "while det != 1:\n",
        "    a = np.random.randint(-10,10,(3,3))\n",
        "    det=np.linalg.det(a)\n",
        "\n",
        "print('искомая матрица: \\n',a)"
      ],
      "metadata": {
        "colab": {
          "base_uri": "https://localhost:8080/"
        },
        "id": "hhzYgzucjfW2",
        "outputId": "9cdd0b29-4c82-4288-c4b8-7f0039b20429"
      },
      "execution_count": 5,
      "outputs": [
        {
          "output_type": "stream",
          "name": "stdout",
          "text": [
            "[[2 1]\n",
            " [1 1]]\n",
            "EigResult(eigenvalues=array([2.61803399, 0.38196601]), eigenvectors=array([[ 0.85065081, -0.52573111],\n",
            "       [ 0.52573111,  0.85065081]]))\n",
            "искомая матрица: \n",
            " [[-1  1 -5]\n",
            " [ 3  1 -8]\n",
            " [-3  0  2]]\n"
          ]
        }
      ]
    }
  ]
}